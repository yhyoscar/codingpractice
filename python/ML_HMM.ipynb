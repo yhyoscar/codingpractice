{
 "cells": [
  {
   "cell_type": "code",
   "execution_count": 1,
   "metadata": {},
   "outputs": [],
   "source": [
    "import numpy as np\n",
    "import matplotlib\n",
    "import matplotlib.pyplot as plt\n",
    "import scipy.stats"
   ]
  },
  {
   "cell_type": "code",
   "execution_count": 38,
   "metadata": {},
   "outputs": [
    {
     "name": "stdout",
     "output_type": "stream",
     "text": [
      "[[0.57142857 0.42857143]\n",
      " [0.57142857 0.42857143]\n",
      " [0.57142857 0.42857143]\n",
      " [0.57142857 0.42857143]\n",
      " [0.57142857 0.42857143]\n",
      " [0.57142857 0.42857143]\n",
      " [0.57142857 0.42857143]\n",
      " [0.57142857 0.42857143]\n",
      " [0.57142857 0.42857143]\n",
      " [0.57142857 0.42857143]\n",
      " [0.57142857 0.42857143]\n",
      " [0.57142857 0.42857143]\n",
      " [0.57142857 0.42857143]\n",
      " [0.57142857 0.42857143]\n",
      " [0.57142857 0.42857143]\n",
      " [0.57142857 0.42857143]\n",
      " [0.57142857 0.42857143]\n",
      " [0.57142857 0.42857143]\n",
      " [0.57142857 0.42857143]\n",
      " [0.57142857 0.42857143]]\n",
      "[[0.31428571 0.35714286 0.32857143]\n",
      " [0.31428571 0.35714286 0.32857143]\n",
      " [0.31428571 0.35714286 0.32857143]\n",
      " [0.31428571 0.35714286 0.32857143]\n",
      " [0.31428571 0.35714286 0.32857143]\n",
      " [0.31428571 0.35714286 0.32857143]\n",
      " [0.31428571 0.35714286 0.32857143]\n",
      " [0.31428571 0.35714286 0.32857143]\n",
      " [0.31428571 0.35714286 0.32857143]\n",
      " [0.31428571 0.35714286 0.32857143]\n",
      " [0.31428571 0.35714286 0.32857143]\n",
      " [0.31428571 0.35714286 0.32857143]\n",
      " [0.31428571 0.35714286 0.32857143]\n",
      " [0.31428571 0.35714286 0.32857143]\n",
      " [0.31428571 0.35714286 0.32857143]\n",
      " [0.31428571 0.35714286 0.32857143]\n",
      " [0.31428571 0.35714286 0.32857143]\n",
      " [0.31428571 0.35714286 0.32857143]\n",
      " [0.31428571 0.35714286 0.32857143]\n",
      " [0.31428571 0.35714286 0.32857143]]\n"
     ]
    }
   ],
   "source": [
    "N = 2;  M = 3;  ntime = 20\n",
    "x = np.zeros([N, ntime])\n",
    "y = np.zeros([M, ntime])\n",
    "T = np.array([[0.7, 0.4], \n",
    "              [0.3, 0.6]])\n",
    "E = np.array([[0.1, 0.6], \n",
    "              [0.4, 0.3], \n",
    "              [0.5, 0.1]])\n",
    "\n",
    "x[:, 0] = [0.57142857, 0.42857143]\n",
    "y[:, 0:1] = np.dot(E, x[:,0:1])\n",
    "for i in range(1,ntime):\n",
    "    x[:, i:i+1] = np.dot(T, x[:, i-1:i])\n",
    "    y[:, i:i+1] = np.dot(E, x[:, i:i+1])\n",
    "        \n",
    "print(x.T)\n",
    "print(y.T)"
   ]
  },
  {
   "cell_type": "code",
   "execution_count": 40,
   "metadata": {},
   "outputs": [
    {
     "data": {
      "text/plain": [
       "<matplotlib.image.AxesImage at 0x7f4068745828>"
      ]
     },
     "execution_count": 40,
     "metadata": {},
     "output_type": "execute_result"
    },
    {
     "data": {
      "image/png": "[encoded data removed]",
      "text/plain": [
       "<matplotlib.figure.Figure at 0x7f4068802a58>"
      ]
     },
     "metadata": {},
     "output_type": "display_data"
    },
    {
     "data": {
      "image/png": "[encoded data removed]",
      "text/plain": [
       "<matplotlib.figure.Figure at 0x7f40687ce358>"
      ]
     },
     "metadata": {},
     "output_type": "display_data"
    }
   ],
   "source": [
    "plt.figure(1, figsize=(15, 2))\n",
    "plt.imshow(x)\n",
    "plt.figure(2, figsize=(15, 2))\n",
    "plt.imshow(y)\n"
   ]
  },
  {
   "cell_type": "code",
   "execution_count": 106,
   "metadata": {},
   "outputs": [
    {
     "name": "stdout",
     "output_type": "stream",
     "text": [
      "[0.5704 0.4296]\n",
      "[0.3059 0.365  0.3291]\n",
      "[[0.70196353 0.39557625]\n",
      " [0.29803647 0.60442375]]\n",
      "[[0.09431978 0.58682495]\n",
      " [0.40515428 0.31168529]\n",
      " [0.50052595 0.10148976]]\n"
     ]
    }
   ],
   "source": [
    "def simulation(T, E, ntime=100, x0=0):\n",
    "    M, N = E.shape\n",
    "    x = np.zeros([ntime]).astype(int)\n",
    "    y = np.zeros([ntime]).astype(int)\n",
    "    x[0] = x0\n",
    "    y[0] = np.random.choice(range(M), p=E[:,x[0]])\n",
    "    for i in range(1,ntime):\n",
    "        x[i] = np.random.choice(range(N), size=1, replace=True, p=T[:,x[i-1]])\n",
    "        y[i] = np.random.choice(range(M), size=1, replace=True, p=E[:,x[i]])\n",
    "    return x, y\n",
    "\n",
    "def pdf_category(x, n):\n",
    "    p = np.zeros([n])\n",
    "    for i in range(n):\n",
    "        p[i] = sum(x==i)/len(x)\n",
    "    return p\n",
    "\n",
    "def condpdf_MC(x, n):\n",
    "    p = np.zeros([n, n])\n",
    "    for i in range(n):\n",
    "        flag = list(x[1:] == i)\n",
    "        flag.append(False)\n",
    "        for j in range(n):\n",
    "            p[i,j] = sum(x[flag]==j)\n",
    "    p = p / np.sum(p, axis=0).reshape([1, n])\n",
    "    return p\n",
    "\n",
    "def condpdf_emission(x, n, y, m):\n",
    "    p = np.zeros([m, n])\n",
    "    for i in range(m):\n",
    "        flag = (y == i)\n",
    "        for j in range(n):\n",
    "            p[i,j] = sum(x[flag]==j)\n",
    "    p = p / np.sum(p, axis=0).reshape([1, n])\n",
    "    return p\n",
    "\n",
    "x, y = simulation(T, E, ntime=10000)\n",
    "\n",
    "print(pdf_category(x, 2))\n",
    "print(pdf_category(y, 3))\n",
    "print(condpdf_MC(x, 2))\n",
    "print(condpdf_emission(x, 2, y, 3))\n"
   ]
  },
  {
   "cell_type": "code",
   "execution_count": 109,
   "metadata": {},
   "outputs": [
    {
     "name": "stdout",
     "output_type": "stream",
     "text": [
      "[[0.49201859 0.49782178]\n",
      " [0.50798141 0.50217822]]\n",
      "[[0.30369772 0.30805781]\n",
      " [0.36370984 0.36626411]\n",
      " [0.33259244 0.32567808]]\n"
     ]
    }
   ],
   "source": [
    "\n",
    "n = 2\n",
    "xguess = np.random.choice(range(n), size=len(y), replace=True, p=[0.5, 0.5])\n",
    "for k in range(1):\n",
    "    Tk = condpdf_MC(xguess, n)\n",
    "    Ek = condpdf_emission(xguess, n, y, 3)\n",
    "    print(Tk)\n",
    "    print(Ek)\n",
    "\n"
   ]
  },
  {
   "cell_type": "code",
   "execution_count": 39,
   "metadata": {},
   "outputs": [
    {
     "name": "stdout",
     "output_type": "stream",
     "text": [
      "[[-0.3  0.4]\n",
      " [ 1.   1. ]]\n",
      "[[-0.78004181 -0.62572739]\n",
      " [-0.62572739  0.78004181]]\n",
      "[[ 0.55488611 -4.05488611]\n",
      " [ 0.44511389  5.05488611]]\n"
     ]
    },
    {
     "data": {
      "text/plain": [
       "array([0.57142857, 0.42857143])"
      ]
     },
     "execution_count": 39,
     "metadata": {},
     "output_type": "execute_result"
    }
   ],
   "source": [
    "# steady state of Markov chain\n",
    "def steadystate(T):\n",
    "    n = T.shape[0]\n",
    "    tmp = np.append(T[:n-1,:]-np.identity(n)[:n-1,:], np.zeros([1,n])+1, axis=0)\n",
    "    print(tmp)\n",
    "    x = np.linalg.solve(tmp, np.append(np.zeros([n-1]), 1) )\n",
    "    u, s, v = np.linalg.svd(T)\n",
    "    print(u)\n",
    "    print(u/np.sum(u,axis=1))\n",
    "    return x\n",
    "\n",
    "T = np.array([[0.7, 0.4], \n",
    "              [0.3, 0.6]])\n",
    "\n",
    "steadystate(T)\n"
   ]
  },
  {
   "cell_type": "code",
   "execution_count": null,
   "metadata": {},
   "outputs": [],
   "source": []
  }
 ],
 "metadata": {
  "kernelspec": {
   "display_name": "Python 3",
   "language": "python",
   "name": "python3"
  },
  "language_info": {
   "codemirror_mode": {
    "name": "ipython",
    "version": 3
   },
   "file_extension": ".py",
   "mimetype": "text/x-python",
   "name": "python",
   "nbconvert_exporter": "python",
   "pygments_lexer": "ipython3",
   "version": "3.6.8"
  }
 },
 "nbformat": 4,
 "nbformat_minor": 2
}
