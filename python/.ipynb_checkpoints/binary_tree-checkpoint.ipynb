{
 "cells": [
  {
   "cell_type": "code",
   "execution_count": 34,
   "metadata": {},
   "outputs": [
    {
     "name": "stdout",
     "output_type": "stream",
     "text": [
      "\n",
      "       ________5____\n",
      "      /             \\\n",
      "    _2___          __8\n",
      "   /     \\        /   \\\n",
      "  12     _6      0     11\n",
      " /      /  \\      \\\n",
      "4      14   10     3\n",
      "\n",
      "[5, 2, 8, 12, 6, 0, 11, 4, None, 14, 10, None, 3]\n",
      "[Node(5), Node(2), Node(12), Node(4), Node(6), Node(14), Node(10), Node(8), Node(0), Node(3), Node(11)]\n"
     ]
    }
   ],
   "source": [
    "from binarytree import tree, Node\n",
    "root = tree()\n",
    "print(root)\n",
    "print(root.values)\n",
    "print(root.preorder)"
   ]
  },
  {
   "cell_type": "code",
   "execution_count": 14,
   "metadata": {},
   "outputs": [],
   "source": [
    "r = Node(88)\n",
    "r.left = Node(77)\n",
    "r.right = Node(66)\n",
    "r.right.left = Node(55)"
   ]
  },
  {
   "cell_type": "code",
   "execution_count": 22,
   "metadata": {},
   "outputs": [
    {
     "name": "stdout",
     "output_type": "stream",
     "text": [
      "\n",
      "  _88___\n",
      " /      \\\n",
      "77      _66\n",
      "       /\n",
      "      55\n",
      "\n",
      "[Node(77), Node(88), Node(55), Node(66)]\n",
      "[Node(88), Node(77), Node(66), Node(55)]\n",
      "[Node(77), Node(55), Node(66), Node(88)]\n",
      "88\n",
      "[88, 77, 66, None, None, 55]\n"
     ]
    }
   ],
   "source": [
    "print(r)\n",
    "print(r.inorder) # left->root->right\n",
    "print(r.preorder) # root->left->right # DFS\n",
    "print(r.postorder) # left->right->root\n",
    "print(r.value)\n",
    "print(r.values)\n",
    "# DFS: depth-first search\n",
    "# BFS: breath-first search"
   ]
  },
  {
   "cell_type": "code",
   "execution_count": null,
   "metadata": {},
   "outputs": [],
   "source": [
    "# idea: (BFS)\n",
    "\n"
   ]
  },
  {
   "cell_type": "code",
   "execution_count": 38,
   "metadata": {},
   "outputs": [
    {
     "name": "stdout",
     "output_type": "stream",
     "text": [
      "\n",
      "       ________5____\n",
      "      /             \\\n",
      "    _2___          __8\n",
      "   /     \\        /   \\\n",
      "  12     _6      0     11\n",
      " /      /  \\      \\\n",
      "4      14   10     3\n",
      "\n",
      "[5, 2, 8, 12, 6, 0, 11, 4, None, 14, 10, None, 3]\n",
      "[5, 2, 8, 12, 6, 0, 11, 4, None, 14, 10, None, 3]\n",
      "\n",
      "       ________5____\n",
      "      /             \\\n",
      "    _2___          __8\n",
      "   /     \\        /   \\\n",
      "  12     _6      0     11\n",
      " /      /  \\      \\\n",
      "4      14   10     3\n",
      "\n"
     ]
    }
   ],
   "source": [
    "# Definition for a binary tree node.\n",
    "#class TreeNode(object):\n",
    "#    def __init__(self, x):\n",
    "#        self.value = x\n",
    "#        self.left = None\n",
    "#        self.right = None\n",
    "\n",
    "from binarytree import Node as TreeNode\n",
    "\n",
    "class Codec:\n",
    "    \n",
    "    method = 'BFS'  # ['DFS', 'BFS']\n",
    "    \n",
    "    def serialize(self, root):\n",
    "        \"\"\"Encodes a tree to a single string.\n",
    "        \n",
    "        :type root: TreeNode\n",
    "        :rtype: str\n",
    "        \"\"\"\n",
    "                    \n",
    "        if self.method == 'DFS':\n",
    "            stack = [root]\n",
    "            branch = [0]\n",
    "            if root is None:\n",
    "                tmp = []\n",
    "            else:\n",
    "                tmp = [root.value]\n",
    "            if root is not None:\n",
    "                while len(stack) > 0:\n",
    "                    if branch[-1] < 2:\n",
    "                        if branch[-1]==0:\n",
    "                            if stack[-1].left is None:\n",
    "                                tmp.append(None)\n",
    "                                branch[-1] += 1\n",
    "                            else:\n",
    "                                tmp.append(stack[-1].left.value)\n",
    "                                branch[-1] += 1\n",
    "                                stack.append(stack[-1].left)\n",
    "                                branch.append(0)\n",
    "                        if branch[-1]==1:\n",
    "                            if stack[-1].right is None:\n",
    "                                tmp.append(None)\n",
    "                                branch[-1] += 1\n",
    "                            else:\n",
    "                                tmp.append(stack[-1].right.value)\n",
    "                                branch[-1] += 1\n",
    "                                stack.append(stack[-1].right)\n",
    "                                branch.append(0)\n",
    "                    else:\n",
    "                        stack.pop()\n",
    "                        branch.pop()\n",
    "            return tmp  \n",
    "        \n",
    "        if self.method == 'BFS':\n",
    "            if root is None:\n",
    "                return []\n",
    "            else:\n",
    "                queue = [root] # each item in this queue is a \"node\"\n",
    "                out = [root.value] # each output item is a \"value\"\n",
    "                while len(queue) > 0:\n",
    "                    node = queue.pop(0)\n",
    "                    if node is not None:\n",
    "                        if node.left is None:\n",
    "                            out.append(None)\n",
    "                            queue.append(None)\n",
    "                        else:\n",
    "                            out.append(node.left.value)\n",
    "                            queue.append(node.left)\n",
    "                        if node.right is None:\n",
    "                            out.append(None)\n",
    "                            queue.append(None)\n",
    "                        else:\n",
    "                            out.append(node.right.value)\n",
    "                            queue.append(node.right)\n",
    "                while out[-1] is None:\n",
    "                    out.pop()\n",
    "                return out\n",
    "\n",
    "            \n",
    "    def deserialize(self, data):\n",
    "        \"\"\"Decodes your encoded data to tree.\n",
    "        \n",
    "        :type data: str\n",
    "        :rtype: TreeNode\n",
    "        \"\"\"\n",
    "        if len(data) == 0:\n",
    "            return None\n",
    "        else:\n",
    "            if self.method == 'DFS':\n",
    "                root = TreeNode(data[0])\n",
    "                stack = [root]\n",
    "                branch = [0]\n",
    "                i = 1\n",
    "                while i < len(data) and len(stack) > 0:\n",
    "                    if branch[-1] < 2:\n",
    "                        if data[i] is not None:\n",
    "                            x = TreeNode(data[i])\n",
    "                            if branch[-1] == 0: stack[-1].left = x\n",
    "                            if branch[-1] == 1: stack[-1].right = x\n",
    "                            stack.append(x)\n",
    "                            branch[-1] += 1\n",
    "                            branch.append(0)\n",
    "                        else:\n",
    "                            branch[-1] += 1\n",
    "                        i += 1\n",
    "                    else:\n",
    "                        stack.pop()\n",
    "                        branch.pop()\n",
    "                return root    \n",
    "            \n",
    "            if self.method == 'BFS':\n",
    "                root = TreeNode(data[0])\n",
    "                queue = [root]\n",
    "                i = 1\n",
    "                while len(queue) > 0 and i < len(data):\n",
    "                    node = queue.pop(0)\n",
    "                    if node is None:\n",
    "                        i += 1\n",
    "                    else:\n",
    "                        if data[i] is not None:\n",
    "                            node.left = TreeNode(data[i])\n",
    "                            queue.append(node.left)\n",
    "                        if (i+1<len(data)) and (data[i+1] is not None):\n",
    "                            node.right = TreeNode(data[i+1])\n",
    "                            queue.append(node.right)\n",
    "                        i += 2\n",
    "                return root        \n",
    "\n",
    "# Your Codec object will be instantiated and called as such:\n",
    "codec = Codec()\n",
    "print(root)\n",
    "print(root.values)\n",
    "print(codec.serialize(root))\n",
    "print(codec.deserialize(codec.serialize(root)))\n"
   ]
  },
  {
   "cell_type": "code",
   "execution_count": 8,
   "metadata": {},
   "outputs": [
    {
     "name": "stdout",
     "output_type": "stream",
     "text": [
      "\n",
      "    _3____\n",
      "   /      \\\n",
      "  13       11\n",
      " /        /  \\\n",
      "5        9    12\n",
      "        /\n",
      "       2\n",
      "\n"
     ]
    }
   ],
   "source": [
    "print(root)\n"
   ]
  },
  {
   "cell_type": "code",
   "execution_count": null,
   "metadata": {},
   "outputs": [],
   "source": []
  }
 ],
 "metadata": {
  "kernelspec": {
   "display_name": "Python 3",
   "language": "python",
   "name": "python3"
  },
  "language_info": {
   "codemirror_mode": {
    "name": "ipython",
    "version": 3
   },
   "file_extension": ".py",
   "mimetype": "text/x-python",
   "name": "python",
   "nbconvert_exporter": "python",
   "pygments_lexer": "ipython3",
   "version": "3.7.3"
  }
 },
 "nbformat": 4,
 "nbformat_minor": 2
}
