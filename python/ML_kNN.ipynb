{
 "cells": [
  {
   "cell_type": "code",
   "execution_count": 1,
   "metadata": {},
   "outputs": [],
   "source": [
    "from statistics import median\n",
    "import numpy as np\n",
    "import matplotlib\n",
    "%matplotlib inline\n",
    "import matplotlib.pyplot as plt\n"
   ]
  },
  {
   "cell_type": "code",
   "execution_count": 5,
   "metadata": {},
   "outputs": [
    {
     "name": "stdout",
     "output_type": "stream",
     "text": [
      "[7 2]\n",
      "[5 4]\n",
      "[9 6]\n",
      "[2 3]\n",
      "[4 7]\n",
      "[8 1]\n"
     ]
    },
    {
     "data": {
      "image/png": "[encoded data removed]",
      "text/plain": [
       "<Figure size 432x432 with 1 Axes>"
      ]
     },
     "metadata": {},
     "output_type": "display_data"
    }
   ],
   "source": [
    "class TreeNode:\n",
    "    def __init__(self, index=None, left=None, right=None, axis=None):\n",
    "        self.index = index\n",
    "        self.axis = axis\n",
    "        self.left = left\n",
    "        self.right = right\n",
    "        return\n",
    "\n",
    "def build_kdtree_recur(root, data, ndim, ids, depth):\n",
    "    if len(ids)>0:\n",
    "        sid = list(np.array(sorted([[i, data[i,depth%ndim]] for i in ids], key = lambda x: x[1]))[:,0])\n",
    "        mid = len(ids) // 2\n",
    "        root.index = sid[mid]\n",
    "        root.axis = depth%ndim\n",
    "        #print(root.index, root.axis, data[root.index,:])\n",
    "        if len(ids) > 1:\n",
    "            root.left = TreeNode()\n",
    "            build_kdtree_recur(root.left, data, ndim, sid[:mid], depth+1)\n",
    "        if len(ids) > 2:\n",
    "            root.right = TreeNode()\n",
    "            build_kdtree_recur(root.right, data, ndim, sid[mid+1:], depth+1)\n",
    "        \n",
    "    return\n",
    "\n",
    "def plot_kdtree(data, root):\n",
    "    mins = np.min(data, axis=0)\n",
    "    maxs = np.max(data, axis=0)\n",
    "    \n",
    "    cstr = ['r', 'b']\n",
    "    plt.figure(1, figsize=(6,6))\n",
    "    q = [root]\n",
    "    dx = 0.5\n",
    "    while q:\n",
    "        x = q.pop(0)\n",
    "        print(data[x.index])\n",
    "        plt.plot(data[x.index, 0], data[x.index, 1], 'ko')    \n",
    "        if x.axis==0:\n",
    "            plt.plot([data[x.index, 0]]*2, [data[x.index, 1]-dx, data[x.index, 1]+dx], cstr[x.axis]+'-')\n",
    "        if x.axis==1:\n",
    "            plt.plot([data[x.index, 0]-dx, data[x.index, 0]+dx], [data[x.index, 1]]*2, cstr[x.axis]+'-')\n",
    "        \n",
    "        if x.left is not None: q.append(x.left)\n",
    "        if x.right is not None: q.append(x.right)\n",
    "    return\n",
    "        \n",
    "def build_kdtree(data):\n",
    "    nsample = len(data)\n",
    "    ndim = len(data[0])\n",
    "    \n",
    "    root = TreeNode()\n",
    "    build_kdtree_recur(root, data, ndim, list(range(nsample)), 0)    \n",
    "    plot_kdtree(data, root)\n",
    "    ids = list(range(nsample))\n",
    "\n",
    "    return\n",
    "\n",
    "\n",
    "data = np.array([(2,3), (5,4), (9,6), (4,7), (8,1), (7,2)])\n",
    "build_kdtree(data)\n"
   ]
  },
  {
   "cell_type": "code",
   "execution_count": null,
   "metadata": {},
   "outputs": [],
   "source": []
  }
 ],
 "metadata": {
  "kernelspec": {
   "display_name": "Python 3",
   "language": "python",
   "name": "python3"
  },
  "language_info": {
   "codemirror_mode": {
    "name": "ipython",
    "version": 3
   },
   "file_extension": ".py",
   "mimetype": "text/x-python",
   "name": "python",
   "nbconvert_exporter": "python",
   "pygments_lexer": "ipython3",
   "version": "3.6.8"
  }
 },
 "nbformat": 4,
 "nbformat_minor": 2
}
