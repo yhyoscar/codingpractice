{
 "cells": [
  {
   "cell_type": "code",
   "execution_count": 1,
   "metadata": {},
   "outputs": [],
   "source": [
    "import numpy as np\n",
    "from netCDF4 import Dataset as netcdf\n",
    "import matplotlib\n",
    "import matplotlib.pyplot as plt\n",
    "import sklearn\n",
    "import pandas as pd\n",
    "from sklearn.tree import DecisionTreeClassifier\n",
    "from sklearn.ensemble import RandomForestClassifier\n"
   ]
  },
  {
   "cell_type": "code",
   "execution_count": 2,
   "metadata": {},
   "outputs": [
    {
     "data": {
      "text/plain": [
       "array([  2500.,   5000.,   7500.,  10000.,  12500.,  15000.,  17500.,\n",
       "        20000.,  22500.,  25000.,  27500.,  30000.,  32500.,  35000.,\n",
       "        37500.,  40000.,  42500.,  45000.,  47500.,  50000.,  52500.,\n",
       "        55000.,  57500.,  60000.,  62500.,  65000.,  67500.,  70000.,\n",
       "        72500.,  75000.,  77500.,  80000.,  82500.,  85000.,  87500.,\n",
       "        90000.,  92500.,  95000.,  97500., 100000.], dtype=float32)"
      ]
     },
     "execution_count": 2,
     "metadata": {},
     "output_type": "execute_result"
    }
   ],
   "source": [
    "fn = '/disk2/yhy/Research/ECP/SCM/IOP/TOGA_COARE_6hr_scm.nc'\n",
    "fid = netcdf(fn, 'r')\n",
    "lev = fid.variables['lev'][:]\n",
    "lev"
   ]
  },
  {
   "cell_type": "code",
   "execution_count": 3,
   "metadata": {
    "scrolled": false
   },
   "outputs": [
    {
     "data": {
      "text/html": [
       "<div>\n",
       "<style scoped>\n",
       "    .dataframe tbody tr th:only-of-type {\n",
       "        vertical-align: middle;\n",
       "    }\n",
       "\n",
       "    .dataframe tbody tr th {\n",
       "        vertical-align: top;\n",
       "    }\n",
       "\n",
       "    .dataframe thead th {\n",
       "        text-align: right;\n",
       "    }\n",
       "</style>\n",
       "<table border=\"1\" class=\"dataframe\">\n",
       "  <thead>\n",
       "    <tr style=\"text-align: right;\">\n",
       "      <th></th>\n",
       "      <th>lhf</th>\n",
       "      <th>prec</th>\n",
       "      <th>ps</th>\n",
       "      <th>qs</th>\n",
       "      <th>shf</th>\n",
       "      <th>ts</th>\n",
       "      <th>us</th>\n",
       "      <th>vs</th>\n",
       "      <th>winds</th>\n",
       "    </tr>\n",
       "  </thead>\n",
       "  <tbody>\n",
       "    <tr>\n",
       "      <th>0</th>\n",
       "      <td>139.562027</td>\n",
       "      <td>10.880352</td>\n",
       "      <td>1005.200012</td>\n",
       "      <td>17.769312</td>\n",
       "      <td>8.297759</td>\n",
       "      <td>27.720398</td>\n",
       "      <td>-1.688498</td>\n",
       "      <td>-3.554286</td>\n",
       "      <td>3.934968</td>\n",
       "    </tr>\n",
       "    <tr>\n",
       "      <th>1</th>\n",
       "      <td>143.774811</td>\n",
       "      <td>12.069388</td>\n",
       "      <td>1008.500000</td>\n",
       "      <td>17.764132</td>\n",
       "      <td>9.668620</td>\n",
       "      <td>27.467499</td>\n",
       "      <td>-2.508322</td>\n",
       "      <td>-4.881404</td>\n",
       "      <td>5.488149</td>\n",
       "    </tr>\n",
       "    <tr>\n",
       "      <th>2</th>\n",
       "      <td>145.714539</td>\n",
       "      <td>5.800757</td>\n",
       "      <td>1006.099976</td>\n",
       "      <td>17.556606</td>\n",
       "      <td>5.182578</td>\n",
       "      <td>27.941589</td>\n",
       "      <td>-2.388705</td>\n",
       "      <td>-4.562050</td>\n",
       "      <td>5.149584</td>\n",
       "    </tr>\n",
       "    <tr>\n",
       "      <th>3</th>\n",
       "      <td>167.201141</td>\n",
       "      <td>4.202634</td>\n",
       "      <td>1008.099976</td>\n",
       "      <td>17.293461</td>\n",
       "      <td>2.612850</td>\n",
       "      <td>28.678589</td>\n",
       "      <td>-2.379830</td>\n",
       "      <td>-4.511113</td>\n",
       "      <td>5.100366</td>\n",
       "    </tr>\n",
       "    <tr>\n",
       "      <th>4</th>\n",
       "      <td>155.434265</td>\n",
       "      <td>4.982342</td>\n",
       "      <td>1005.599976</td>\n",
       "      <td>17.634312</td>\n",
       "      <td>5.149265</td>\n",
       "      <td>28.180145</td>\n",
       "      <td>-1.756594</td>\n",
       "      <td>-4.596083</td>\n",
       "      <td>4.920325</td>\n",
       "    </tr>\n",
       "  </tbody>\n",
       "</table>\n",
       "</div>"
      ],
      "text/plain": [
       "          lhf       prec           ps         qs       shf         ts  \\\n",
       "0  139.562027  10.880352  1005.200012  17.769312  8.297759  27.720398   \n",
       "1  143.774811  12.069388  1008.500000  17.764132  9.668620  27.467499   \n",
       "2  145.714539   5.800757  1006.099976  17.556606  5.182578  27.941589   \n",
       "3  167.201141   4.202634  1008.099976  17.293461  2.612850  28.678589   \n",
       "4  155.434265   4.982342  1005.599976  17.634312  5.149265  28.180145   \n",
       "\n",
       "         us        vs     winds  \n",
       "0 -1.688498 -3.554286  3.934968  \n",
       "1 -2.508322 -4.881404  5.488149  \n",
       "2 -2.388705 -4.562050  5.149584  \n",
       "3 -2.379830 -4.511113  5.100366  \n",
       "4 -1.756594 -4.596083  4.920325  "
      ]
     },
     "execution_count": 3,
     "metadata": {},
     "output_type": "execute_result"
    }
   ],
   "source": [
    "tb = {'ps':fid.variables['Ps'][:,0,0]/100.0, 'ts':fid.variables['Tsair'][:,0,0]-273.15, \n",
    "      'prec':fid.variables['Prec'][:,0,0]*86400*1000.0, 'qs':fid.variables['qsrf'][:,0,0]*1000, \n",
    "      'us':fid.variables['usrf'][:,0,0], 'vs':fid.variables['vsrf'][:,0,0], \n",
    "      'lhf':fid.variables['lhflx'][:,0,0], 'shf':fid.variables['shflx'][:,0,0], \n",
    "      'winds':fid.variables['windsrf'][:,0,0] }\n",
    "tb = pd.DataFrame(tb)\n",
    "tb.head(5)"
   ]
  },
  {
   "cell_type": "code",
   "execution_count": 4,
   "metadata": {},
   "outputs": [
    {
     "data": {
      "text/html": [
       "<div>\n",
       "<style scoped>\n",
       "    .dataframe tbody tr th:only-of-type {\n",
       "        vertical-align: middle;\n",
       "    }\n",
       "\n",
       "    .dataframe tbody tr th {\n",
       "        vertical-align: top;\n",
       "    }\n",
       "\n",
       "    .dataframe thead th {\n",
       "        text-align: right;\n",
       "    }\n",
       "</style>\n",
       "<table border=\"1\" class=\"dataframe\">\n",
       "  <thead>\n",
       "    <tr style=\"text-align: right;\">\n",
       "      <th></th>\n",
       "      <th>lhf</th>\n",
       "      <th>prec</th>\n",
       "      <th>ps</th>\n",
       "      <th>qs</th>\n",
       "      <th>shf</th>\n",
       "      <th>ts</th>\n",
       "      <th>us</th>\n",
       "      <th>vs</th>\n",
       "      <th>winds</th>\n",
       "      <th>label</th>\n",
       "    </tr>\n",
       "  </thead>\n",
       "  <tbody>\n",
       "    <tr>\n",
       "      <th>195</th>\n",
       "      <td>163.484344</td>\n",
       "      <td>11.487156</td>\n",
       "      <td>1009.200012</td>\n",
       "      <td>18.136005</td>\n",
       "      <td>3.676066</td>\n",
       "      <td>28.743744</td>\n",
       "      <td>-4.453161</td>\n",
       "      <td>2.218433</td>\n",
       "      <td>4.975147</td>\n",
       "      <td>0</td>\n",
       "    </tr>\n",
       "    <tr>\n",
       "      <th>196</th>\n",
       "      <td>137.801010</td>\n",
       "      <td>21.954446</td>\n",
       "      <td>1005.799988</td>\n",
       "      <td>18.036098</td>\n",
       "      <td>6.041430</td>\n",
       "      <td>28.387665</td>\n",
       "      <td>-5.162676</td>\n",
       "      <td>2.483150</td>\n",
       "      <td>5.728810</td>\n",
       "      <td>1</td>\n",
       "    </tr>\n",
       "    <tr>\n",
       "      <th>197</th>\n",
       "      <td>149.413269</td>\n",
       "      <td>37.409817</td>\n",
       "      <td>1008.700012</td>\n",
       "      <td>18.004749</td>\n",
       "      <td>13.109730</td>\n",
       "      <td>27.675659</td>\n",
       "      <td>-5.215098</td>\n",
       "      <td>2.893526</td>\n",
       "      <td>5.964037</td>\n",
       "      <td>1</td>\n",
       "    </tr>\n",
       "    <tr>\n",
       "      <th>198</th>\n",
       "      <td>150.738556</td>\n",
       "      <td>22.782573</td>\n",
       "      <td>1006.599976</td>\n",
       "      <td>17.975185</td>\n",
       "      <td>14.357501</td>\n",
       "      <td>27.366730</td>\n",
       "      <td>-4.637595</td>\n",
       "      <td>1.654541</td>\n",
       "      <td>4.923901</td>\n",
       "      <td>1</td>\n",
       "    </tr>\n",
       "    <tr>\n",
       "      <th>199</th>\n",
       "      <td>143.508759</td>\n",
       "      <td>23.377072</td>\n",
       "      <td>1009.599976</td>\n",
       "      <td>17.890781</td>\n",
       "      <td>14.553181</td>\n",
       "      <td>27.111877</td>\n",
       "      <td>-3.606912</td>\n",
       "      <td>1.564486</td>\n",
       "      <td>3.931594</td>\n",
       "      <td>1</td>\n",
       "    </tr>\n",
       "    <tr>\n",
       "      <th>200</th>\n",
       "      <td>193.122406</td>\n",
       "      <td>34.913207</td>\n",
       "      <td>1006.400024</td>\n",
       "      <td>17.880302</td>\n",
       "      <td>19.372381</td>\n",
       "      <td>27.191559</td>\n",
       "      <td>-6.713649</td>\n",
       "      <td>2.375027</td>\n",
       "      <td>7.121365</td>\n",
       "      <td>1</td>\n",
       "    </tr>\n",
       "    <tr>\n",
       "      <th>201</th>\n",
       "      <td>184.141632</td>\n",
       "      <td>32.329291</td>\n",
       "      <td>1009.000000</td>\n",
       "      <td>17.990410</td>\n",
       "      <td>16.635376</td>\n",
       "      <td>27.352020</td>\n",
       "      <td>-6.451093</td>\n",
       "      <td>3.222961</td>\n",
       "      <td>7.211385</td>\n",
       "      <td>1</td>\n",
       "    </tr>\n",
       "    <tr>\n",
       "      <th>202</th>\n",
       "      <td>206.563965</td>\n",
       "      <td>25.754457</td>\n",
       "      <td>1005.900024</td>\n",
       "      <td>18.031715</td>\n",
       "      <td>14.223768</td>\n",
       "      <td>27.608765</td>\n",
       "      <td>-7.099800</td>\n",
       "      <td>2.698585</td>\n",
       "      <td>7.595362</td>\n",
       "      <td>1</td>\n",
       "    </tr>\n",
       "    <tr>\n",
       "      <th>203</th>\n",
       "      <td>234.415924</td>\n",
       "      <td>18.558306</td>\n",
       "      <td>1008.200012</td>\n",
       "      <td>18.057888</td>\n",
       "      <td>17.290186</td>\n",
       "      <td>27.636078</td>\n",
       "      <td>-9.149927</td>\n",
       "      <td>2.181930</td>\n",
       "      <td>9.406487</td>\n",
       "      <td>0</td>\n",
       "    </tr>\n",
       "    <tr>\n",
       "      <th>204</th>\n",
       "      <td>213.051804</td>\n",
       "      <td>25.381969</td>\n",
       "      <td>1005.000000</td>\n",
       "      <td>18.065985</td>\n",
       "      <td>22.471931</td>\n",
       "      <td>27.199158</td>\n",
       "      <td>-8.710060</td>\n",
       "      <td>1.674976</td>\n",
       "      <td>8.869650</td>\n",
       "      <td>1</td>\n",
       "    </tr>\n",
       "    <tr>\n",
       "      <th>205</th>\n",
       "      <td>196.149475</td>\n",
       "      <td>27.773694</td>\n",
       "      <td>1007.799988</td>\n",
       "      <td>18.067406</td>\n",
       "      <td>20.758904</td>\n",
       "      <td>26.965942</td>\n",
       "      <td>-6.946181</td>\n",
       "      <td>0.678204</td>\n",
       "      <td>6.979212</td>\n",
       "      <td>1</td>\n",
       "    </tr>\n",
       "  </tbody>\n",
       "</table>\n",
       "</div>"
      ],
      "text/plain": [
       "            lhf       prec           ps         qs        shf         ts  \\\n",
       "195  163.484344  11.487156  1009.200012  18.136005   3.676066  28.743744   \n",
       "196  137.801010  21.954446  1005.799988  18.036098   6.041430  28.387665   \n",
       "197  149.413269  37.409817  1008.700012  18.004749  13.109730  27.675659   \n",
       "198  150.738556  22.782573  1006.599976  17.975185  14.357501  27.366730   \n",
       "199  143.508759  23.377072  1009.599976  17.890781  14.553181  27.111877   \n",
       "200  193.122406  34.913207  1006.400024  17.880302  19.372381  27.191559   \n",
       "201  184.141632  32.329291  1009.000000  17.990410  16.635376  27.352020   \n",
       "202  206.563965  25.754457  1005.900024  18.031715  14.223768  27.608765   \n",
       "203  234.415924  18.558306  1008.200012  18.057888  17.290186  27.636078   \n",
       "204  213.051804  25.381969  1005.000000  18.065985  22.471931  27.199158   \n",
       "205  196.149475  27.773694  1007.799988  18.067406  20.758904  26.965942   \n",
       "\n",
       "           us        vs     winds  label  \n",
       "195 -4.453161  2.218433  4.975147      0  \n",
       "196 -5.162676  2.483150  5.728810      1  \n",
       "197 -5.215098  2.893526  5.964037      1  \n",
       "198 -4.637595  1.654541  4.923901      1  \n",
       "199 -3.606912  1.564486  3.931594      1  \n",
       "200 -6.713649  2.375027  7.121365      1  \n",
       "201 -6.451093  3.222961  7.211385      1  \n",
       "202 -7.099800  2.698585  7.595362      1  \n",
       "203 -9.149927  2.181930  9.406487      0  \n",
       "204 -8.710060  1.674976  8.869650      1  \n",
       "205 -6.946181  0.678204  6.979212      1  "
      ]
     },
     "execution_count": 4,
     "metadata": {},
     "output_type": "execute_result"
    }
   ],
   "source": [
    "tb['label'] = 0\n",
    "tb.loc[tb['prec'] > 20, 'label'] = 1\n",
    "tb.loc[195:205,:]"
   ]
  },
  {
   "cell_type": "code",
   "execution_count": 5,
   "metadata": {},
   "outputs": [],
   "source": [
    "def plot2var(tb, vars, cstr={0:'b.', 1:'ro'}):\n",
    "    for k in cstr.keys():\n",
    "        plt.plot(tb.loc[tb['label']==k, vars[0]], tb.loc[tb['label']==k, vars[1]], cstr[k])\n",
    "    return"
   ]
  },
  {
   "cell_type": "code",
   "execution_count": 6,
   "metadata": {},
   "outputs": [
    {
     "data": {
      "text/plain": [
       "<matplotlib.contour.QuadContourSet at 0x7f9af01a04e0>"
      ]
     },
     "execution_count": 6,
     "metadata": {},
     "output_type": "execute_result"
    },
    {
     "data": {
      "image/png": "[encoded data removed]",
      "text/plain": [
       "<matplotlib.figure.Figure at 0x7f9af8756588>"
      ]
     },
     "metadata": {},
     "output_type": "display_data"
    }
   ],
   "source": [
    "vars = ['ts', 'shf']\n",
    "#vars = ['ps', 'lhf']\n",
    "clf = DecisionTreeClassifier(min_samples_leaf = 1, class_weight='balanced')\n",
    "clf.fit(np.array(tb[vars]), np.array(tb['label']))\n",
    "plot2var(tb, vars)\n",
    "\n",
    "xx, yy = np.meshgrid( np.linspace(plt.xlim()[0], plt.xlim()[1], 100), \n",
    "    np.linspace(plt.ylim()[0], plt.ylim()[1], 100) ) \n",
    "\n",
    "zz = np.c_[ np.ravel(xx), np.ravel(yy) ]\n",
    "zpred = clf.predict(zz).reshape(xx.shape)\n",
    "\n",
    "plt.contourf(xx, yy, zpred, 4)\n"
   ]
  },
  {
   "cell_type": "code",
   "execution_count": 7,
   "metadata": {},
   "outputs": [
    {
     "data": {
      "text/plain": [
       "<matplotlib.contour.QuadContourSet at 0x7f9af00d2278>"
      ]
     },
     "execution_count": 7,
     "metadata": {},
     "output_type": "execute_result"
    },
    {
     "data": {
      "image/png": "[encoded data removed]",
      "text/plain": [
       "<matplotlib.figure.Figure at 0x7f9af015e6a0>"
      ]
     },
     "metadata": {},
     "output_type": "display_data"
    }
   ],
   "source": [
    "vars = ['ts', 'shf']\n",
    "\n",
    "clf = RandomForestClassifier(n_estimators = 20, max_features = 'auto', \n",
    "                             min_samples_split=2, class_weight=None, max_depth=3)\n",
    "clf.fit(np.array(tb[vars]), np.array(tb['label']))\n",
    "plot2var(tb, vars)\n",
    "\n",
    "xx, yy = np.meshgrid( np.linspace(plt.xlim()[0], plt.xlim()[1], 100), \n",
    "    np.linspace(plt.ylim()[0], plt.ylim()[1], 100) ) \n",
    "\n",
    "zz = np.c_[ np.ravel(xx), np.ravel(yy) ]\n",
    "zpred = clf.predict(zz).reshape(xx.shape)\n",
    "\n",
    "plt.contourf(xx, yy, zpred, 4)\n"
   ]
  },
  {
   "cell_type": "code",
   "execution_count": 12,
   "metadata": {
    "scrolled": false
   },
   "outputs": [
    {
     "name": "stdout",
     "output_type": "stream",
     "text": [
      "1 33 33\n",
      "2 33 18\n",
      "3 33 33\n",
      "4 33 28\n",
      "5 33 28\n",
      "6 33 28\n",
      "7 33 32\n",
      "8 33 30\n",
      "9 33 34\n",
      "10 33 33\n",
      "11 33 34\n",
      "12 33 32\n",
      "13 33 33\n",
      "14 33 33\n",
      "15 33 32\n",
      "16 33 31\n",
      "17 33 33\n",
      "18 33 32\n",
      "19 33 33\n",
      "20 33 33\n",
      "21 33 33\n",
      "22 33 33\n",
      "23 33 32\n",
      "24 33 33\n",
      "25 33 33\n",
      "26 33 32\n",
      "27 33 32\n",
      "28 33 32\n",
      "29 33 33\n",
      "30 33 33\n",
      "31 33 30\n",
      "32 33 33\n",
      "33 33 33\n",
      "34 33 33\n",
      "35 33 33\n",
      "36 33 33\n",
      "37 33 33\n",
      "38 33 33\n",
      "39 33 33\n",
      "40 33 33\n",
      "41 33 31\n",
      "42 33 32\n",
      "43 33 33\n",
      "44 33 33\n",
      "45 33 33\n",
      "46 33 32\n",
      "47 33 33\n",
      "48 33 33\n",
      "49 33 33\n",
      "50 33 32\n",
      "51 33 33\n",
      "52 33 33\n",
      "53 33 33\n",
      "54 33 33\n",
      "55 33 33\n",
      "56 33 33\n",
      "57 33 33\n",
      "58 33 33\n",
      "59 33 33\n",
      "60 33 33\n",
      "61 33 33\n",
      "62 33 33\n",
      "63 33 33\n",
      "64 33 33\n",
      "65 33 33\n",
      "66 33 33\n",
      "67 33 33\n",
      "68 33 33\n",
      "69 33 33\n",
      "70 33 33\n",
      "71 33 33\n",
      "72 33 33\n",
      "73 33 33\n",
      "74 33 33\n",
      "75 33 33\n",
      "76 33 33\n",
      "77 33 33\n",
      "78 33 33\n",
      "79 33 33\n",
      "80 33 33\n",
      "81 33 33\n",
      "82 33 33\n",
      "83 33 33\n",
      "84 33 33\n",
      "85 33 33\n",
      "86 33 33\n",
      "87 33 33\n",
      "88 33 33\n",
      "89 33 33\n",
      "90 33 33\n",
      "91 33 33\n",
      "92 33 33\n",
      "93 33 33\n",
      "94 33 33\n",
      "95 33 33\n",
      "96 33 32\n",
      "97 33 33\n",
      "98 33 33\n",
      "99 33 33\n"
     ]
    },
    {
     "data": {
      "text/plain": [
       "[<matplotlib.lines.Line2D at 0x7f9aefd34160>]"
      ]
     },
     "execution_count": 12,
     "metadata": {},
     "output_type": "execute_result"
    },
    {
     "data": {
      "image/png": "[encoded data removed]",
      "text/plain": [
       "<matplotlib.figure.Figure at 0x7f9aefe9cc50>"
      ]
     },
     "metadata": {},
     "output_type": "display_data"
    }
   ],
   "source": [
    "\n",
    "ntree = np.arange(1,100)\n",
    "f1 = np.zeros([len(ntree)])\n",
    "\n",
    "for i in range(len(ntree)):\n",
    "    \n",
    "    vars = ['ts', 'ps', 'shf', 'lhf', 'winds', 'us', 'vs', 'qs']\n",
    "    clf = RandomForestClassifier(n_estimators = ntree[i], max_features = 'auto', \n",
    "                                 min_samples_split=2, max_depth=8, class_weight='balanced')\n",
    "    clf.fit(np.array(tb[vars]), np.array(tb['label']))\n",
    "\n",
    "    #print(dict(zip(vars, clf.feature_importances_)))\n",
    "    ypred = clf.predict(np.array(tb[vars]))\n",
    "\n",
    "    print(ntree[i], sum(tb['label']==1), sum(ypred==1) )\n",
    "\n",
    "    TP = sum( (np.array(tb['label'])==1) & (ypred==1) )\n",
    "    FN = sum( (np.array(tb['label'])==1) & (ypred==0) )\n",
    "    FP = sum( (np.array(tb['label'])==0) & (ypred==1) )\n",
    "    TN = sum( (np.array(tb['label'])==0) & (ypred==0) )\n",
    "    \n",
    "    f1[i] = sklearn.metrics.f1_score(np.array(tb['label']), ypred )\n",
    "\n",
    "#print(TP, FN)\n",
    "#print(FP, TN)\n",
    "\n",
    "#plt.bar( range(len(vars)), clf.feature_importances_ )\n",
    "#plt.xticks( range(len(vars)), vars )\n",
    "#plt.show()\n",
    "\n",
    "plt.plot(ntree, f1)"
   ]
  },
  {
   "cell_type": "code",
   "execution_count": 14,
   "metadata": {},
   "outputs": [
    {
     "name": "stdout",
     "output_type": "stream",
     "text": [
      "0.0044943820224719105\n",
      "0.99581589958159 0.9428571428571428 1.0 0.9705882352941176\n",
      "[[443   2]\n",
      " [  0  33]]\n",
      "0.9705882352941176\n"
     ]
    }
   ],
   "source": [
    "accuracy = (TP+TN)/(TP+TN+FP+FN)\n",
    "precision = TP/(TP+FP)\n",
    "recall = TP/(TP+FN)\n",
    "print(FP/(FP+TN))\n",
    "print(accuracy, precision, recall, 2*precision*recall/(precision+recall))\n",
    "\n",
    "print( sklearn.metrics.confusion_matrix(np.array(tb['label']), ypred) )\n",
    "print( sklearn.metrics.f1_score(np.array(tb['label']), ypred ) )\n",
    "\n"
   ]
  },
  {
   "cell_type": "code",
   "execution_count": 225,
   "metadata": {
    "scrolled": false
   },
   "outputs": [
    {
     "name": "stdout",
     "output_type": "stream",
     "text": [
      "[0.         0.         0.00449438 0.00449438 0.00674157 0.00674157\n",
      " 0.00898876 0.00898876 0.01348315 0.01348315 0.06741573 0.08089888\n",
      " 0.09662921 0.10337079 0.11011236 0.11685393 0.15730337 0.16179775\n",
      " 0.18426966 0.19325843 0.19775281 0.20224719 0.21123596 0.21573034\n",
      " 0.23370787 0.23820225 0.24269663 0.2494382  0.25393258 0.25842697\n",
      " 0.26292135 0.26741573 0.26966292 0.27640449 0.27865169 0.28764045\n",
      " 0.29438202 0.30337079 0.31011236 0.31910112 0.32134831 0.32808989\n",
      " 0.33258427 0.34831461 0.35280899 0.37303371 0.38651685 0.39325843\n",
      " 0.40449438 0.41797753 0.42247191 0.43146067 0.4494382  0.45393258\n",
      " 0.46292135 0.67865169 0.68539326 0.99550562 1.        ] [0.03030303 0.87878788 0.87878788 0.90909091 0.90909091 0.93939394\n",
      " 0.93939394 0.96969697 0.96969697 1.         1.         1.\n",
      " 1.         1.         1.         1.         1.         1.\n",
      " 1.         1.         1.         1.         1.         1.\n",
      " 1.         1.         1.         1.         1.         1.\n",
      " 1.         1.         1.         1.         1.         1.\n",
      " 1.         1.         1.         1.         1.         1.\n",
      " 1.         1.         1.         1.         1.         1.\n",
      " 1.         1.         1.         1.         1.         1.\n",
      " 1.         1.         1.         1.         1.        ] [0.98757354 0.70151581 0.63913118 0.56715003 0.55650213 0.53103524\n",
      " 0.50573214 0.48688312 0.45717015 0.43376383 0.10095605 0.09961266\n",
      " 0.09285449 0.09208718 0.09134568 0.09059307 0.06897945 0.06852387\n",
      " 0.06196349 0.06069808 0.05858881 0.05756715 0.05474648 0.05440189\n",
      " 0.04315726 0.04290282 0.04161704 0.04096279 0.04030291 0.0399514\n",
      " 0.03956612 0.03782868 0.0377747  0.03744101 0.03717799 0.03664764\n",
      " 0.0358121  0.03523563 0.03479044 0.03333333 0.03311361 0.03283746\n",
      " 0.03204754 0.03196977 0.03048516 0.02856741 0.01884032 0.01645509\n",
      " 0.01522632 0.01499799 0.0110266  0.00956949 0.00927083 0.00718426\n",
      " 0.00572716 0.00529944 0.00384233 0.00145711 0.        ]\n"
     ]
    },
    {
     "data": {
      "text/plain": [
       "[<matplotlib.lines.Line2D at 0x7f1605bbc2e8>]"
      ]
     },
     "execution_count": 225,
     "metadata": {},
     "output_type": "execute_result"
    },
    {
     "data": {
      "image/png": "[encoded data removed]",
      "text/plain": [
       "<matplotlib.figure.Figure at 0x7f1605945470>"
      ]
     },
     "metadata": {},
     "output_type": "display_data"
    }
   ],
   "source": [
    "ypred = clf.predict_proba(np.array(tb[vars]))\n",
    "#print(ypred)\n",
    "fpr, tpr, thre = sklearn.metrics.roc_curve(np.array(tb['label']), ypred[:,1], \n",
    "                   pos_label=1, drop_intermediate = True)\n",
    "print(fpr, tpr, thre)\n",
    "plt.plot(fpr, tpr, 'r-')\n"
   ]
  },
  {
   "cell_type": "code",
   "execution_count": null,
   "metadata": {},
   "outputs": [],
   "source": []
  },
  {
   "cell_type": "code",
   "execution_count": null,
   "metadata": {},
   "outputs": [],
   "source": []
  }
 ],
 "metadata": {
  "kernelspec": {
   "display_name": "Python 3",
   "language": "python",
   "name": "python3"
  },
  "language_info": {
   "codemirror_mode": {
    "name": "ipython",
    "version": 3
   },
   "file_extension": ".py",
   "mimetype": "text/x-python",
   "name": "python",
   "nbconvert_exporter": "python",
   "pygments_lexer": "ipython3",
   "version": "3.6.4"
  }
 },
 "nbformat": 4,
 "nbformat_minor": 2
}
